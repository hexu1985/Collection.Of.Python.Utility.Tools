{
 "cells": [
  {
   "cell_type": "markdown",
   "id": "428d338c-bf20-4f56-a844-5a4c75c6276c",
   "metadata": {},
   "source": [
    "#### 编译正则表达式\n",
    "正则表达式被编译成 `RegexObject` 实例，可以为不同的操作提供方法，如模式匹配搜索或字符串替换。"
   ]
  },
  {
   "cell_type": "code",
   "execution_count": 1,
   "id": "3e923f64-d6e0-4191-9bb2-911f98e98d44",
   "metadata": {},
   "outputs": [
    {
     "name": "stdout",
     "output_type": "stream",
     "text": [
      "re.compile('ab*')\n"
     ]
    }
   ],
   "source": [
    "#!python\n",
    ">>> import re\n",
    ">>> p = re.compile('ab*')\n",
    ">>> print(p)"
   ]
  },
  {
   "cell_type": "markdown",
   "id": "c0868975-9ce0-4252-9be8-a9a8ab45e2e2",
   "metadata": {},
   "source": [
    "re.compile() 也接受可选的标志参数，常用来实现不同的特殊功能和语法变更。我们稍后将查看所有可用的设置，但现在只举一个例子："
   ]
  },
  {
   "cell_type": "code",
   "execution_count": 2,
   "id": "47dc81db-aaac-452e-b80e-86f042830449",
   "metadata": {},
   "outputs": [],
   "source": [
    "#!python\n",
    ">>> import re\n",
    ">>> p = re.compile('ab*', re.IGNORECASE)"
   ]
  },
  {
   "cell_type": "markdown",
   "id": "93628ebb-2b6c-419a-a014-2bf2048d5696",
   "metadata": {},
   "source": [
    "#### 执行匹配\n",
    "\n",
    "一旦你有了已经编译了的正则表达式的对象，你要用它做什么呢？`RegexObject` 实例有一些方法和属性。这里只显示了最重要的几个，如果要看完整的列表请查阅 Python Library Reference\n",
    "\n",
    "| 方法/属性  | 作用                                               |\n",
    "| ---------- | -------------------------------------------------- |\n",
    "| match()    | 决定 RE 是否在字符串刚开始的位置匹配               |\n",
    "| search()   | 扫描字符串，找到这个 RE 匹配的位置                 |\n",
    "| findall()  | 找到 RE 匹配的所有子串，并把它们作为一个列表返回   |\n",
    "| finditer() | 找到 RE 匹配的所有子串，并把它们作为一个迭代器返回 |\n",
    "\n",
    "\n",
    "如果没有匹配到的话，match() 和 search() 将返回 None。如果成功的话，就会返回一个 `MatchObject` 实例，其中有这次匹配的信息：它是从哪里开始和结束，它所匹配的子串等等。\n",
    "\n",
    "\n",
    "你可以用采用人机对话并用 re 模块实验的方式来学习它。如果你有 Tkinter 的话，你也许可以考虑参考一下 Tools/scripts/redemo.py，一个包含在 Python 发行版里的示范程序。\n",
    "\n",
    "\n",
    "首先，运行 Python 解释器，导入 re 模块并编译一个 RE："
   ]
  },
  {
   "cell_type": "code",
   "execution_count": 10,
   "id": "65319da1-1ea5-4b42-918d-d020518925d4",
   "metadata": {},
   "outputs": [
    {
     "name": "stdout",
     "output_type": "stream",
     "text": [
      "re.compile('[a-z]+')\n"
     ]
    }
   ],
   "source": [
    "import re\n",
    "p = re.compile('[a-z]+')\n",
    "print(p)"
   ]
  },
  {
   "cell_type": "markdown",
   "id": "5aa0d35b-0322-4aaf-900d-7d6d7e83208c",
   "metadata": {},
   "source": [
    "现在，你可以试着用 RE 的 [a-z]+ 去匹配不同的字符串。一个空字符串将根本不能匹配，因为 + 的意思是 “一个或更多的重复次数”。 在这种情况下 match() 将返回 None，因为它使解释器没有输出。你可以明确地打印出 match() 的结果来弄清这一点。"
   ]
  },
  {
   "cell_type": "code",
   "execution_count": 11,
   "id": "21cbcdc0-3f95-48f0-bc0e-de96bf2560d7",
   "metadata": {},
   "outputs": [
    {
     "name": "stdout",
     "output_type": "stream",
     "text": [
      "None\n"
     ]
    }
   ],
   "source": [
    "p.match(\"\")\n",
    "print(p.match(\"\"))"
   ]
  },
  {
   "cell_type": "markdown",
   "id": "0db1c305-1a41-44fd-b53f-f0d2433ce7f9",
   "metadata": {},
   "source": [
    "现在，让我们试着用它来匹配一个字符串，如 \"tempo\"。这时，match() 将返回一个 MatchObject。因此你可以将结果保存在变量里以便後面使用。"
   ]
  },
  {
   "cell_type": "code",
   "execution_count": 12,
   "id": "db1851b9-07b3-49ac-b30e-a0e78b7cfbbf",
   "metadata": {},
   "outputs": [
    {
     "name": "stdout",
     "output_type": "stream",
     "text": [
      "<re.Match object; span=(0, 5), match='tempo'>\n"
     ]
    }
   ],
   "source": [
    "m = p.match( 'tempo')\n",
    "print(m)"
   ]
  },
  {
   "cell_type": "markdown",
   "id": "f06290c2-1a8f-4ac7-b595-a6d81058f7e5",
   "metadata": {},
   "source": [
    "现在你可以查询 `MatchObject` 关于匹配字符串的相关信息了。MatchObject 实例也有几个方法和属性；最重要的那些如下所示：\n",
    "\n",
    "| 方法/属性 | 作用                                    |\n",
    "| --------- | --------------------------------------- |\n",
    "| group()   | 返回被 RE 匹配的字符串                  |\n",
    "| start()   | 返回匹配开始的位置                      |\n",
    "| end()     | 返回匹配结束的位置                      |\n",
    "| span()    | 返回一个元组包含匹配 (开始,结束) 的位置 |\n",
    "\n",
    "\n",
    "试试这些方法不久就会清楚它们的作用了："
   ]
  },
  {
   "cell_type": "code",
   "execution_count": 14,
   "id": "1b493934-0bee-4af7-865e-efafb165b0e8",
   "metadata": {},
   "outputs": [
    {
     "name": "stdout",
     "output_type": "stream",
     "text": [
      "tempo\n",
      "(0, 5)\n",
      "(0, 5)\n"
     ]
    }
   ],
   "source": [
    "print(m.group())\n",
    "print((m.start(), m.end()))\n",
    "print(m.span())"
   ]
  },
  {
   "cell_type": "markdown",
   "id": "f44f8173-67b6-4d1a-88cb-2f34b6c0dad7",
   "metadata": {},
   "source": [
    "group() 返回 RE 匹配的子串。start() 和 end() 返回匹配开始和结束时的索引。span()  则用单个元组把开始和结束时的索引一起返回。因为匹配方法检查到如果 RE 在字符串开始处开始匹配，那么 start() 将总是为零。然而，  `RegexObject` 实例的 search 方法扫描下面的字符串的话，在这种情况下，匹配开始的位置就也许不是零了。"
   ]
  },
  {
   "cell_type": "code",
   "execution_count": 16,
   "id": "4fd22504-d111-4e59-90a8-eba6704d72c5",
   "metadata": {},
   "outputs": [
    {
     "name": "stdout",
     "output_type": "stream",
     "text": [
      "None\n",
      "<re.Match object; span=(4, 11), match='message'>\n",
      "message\n",
      "(4, 11)\n"
     ]
    }
   ],
   "source": [
    "print(p.match('::: message'))\n",
    "m = p.search('::: message') \n",
    "print(m)\n",
    "print(m.group())\n",
    "print(m.span())"
   ]
  },
  {
   "cell_type": "markdown",
   "id": "ef9013c4-0930-4ad2-b3a1-2fe231a7803a",
   "metadata": {},
   "source": [
    "在实际程序中，最常见的作法是将 `MatchObject` 保存在一个变量里，然後检查它是否为 None，通常如下所示： "
   ]
  },
  {
   "cell_type": "code",
   "execution_count": 18,
   "id": "f50ea9c0-b983-466f-a1a9-b5715b6c0027",
   "metadata": {},
   "outputs": [
    {
     "name": "stdout",
     "output_type": "stream",
     "text": [
      "No match\n"
     ]
    }
   ],
   "source": [
    "p = re.compile('.abc')\n",
    "m = p.match( 'string goes here' )\n",
    "if m:\n",
    "    print('Match found: ', m.group())\n",
    "else:\n",
    "    print('No match')"
   ]
  },
  {
   "cell_type": "markdown",
   "id": "18bf7587-23ae-46bf-92d1-c366a1a768a9",
   "metadata": {},
   "source": [
    "两个 `RegexObject` 方法返回所有匹配模式的子串。findall()返回一个匹配字符串行表： "
   ]
  },
  {
   "cell_type": "code",
   "execution_count": 20,
   "id": "43e3e98c-cb48-4d6f-a8f7-8f8b0435ef92",
   "metadata": {},
   "outputs": [
    {
     "name": "stdout",
     "output_type": "stream",
     "text": [
      "['12', '11', '10']\n"
     ]
    }
   ],
   "source": [
    "import re\n",
    "p = re.compile('\\d+')\n",
    "print(p.findall('12 drummers drumming, 11 pipers piping, 10 lords a-leaping'))"
   ]
  },
  {
   "cell_type": "markdown",
   "id": "6cb900ce-3b76-4cc1-b557-6f6fabfe23d3",
   "metadata": {},
   "source": [
    "findall() 在它返回结果时不得不创建一个列表。在 Python 2.2中，也可以用 finditer() 方法。 "
   ]
  },
  {
   "cell_type": "code",
   "execution_count": 21,
   "id": "6307b984-aefd-4558-89bc-9d1c10bef164",
   "metadata": {},
   "outputs": [
    {
     "name": "stdout",
     "output_type": "stream",
     "text": [
      "<callable_iterator object at 0x7fcd406c7520>\n",
      "(0, 2)\n",
      "(22, 24)\n",
      "(29, 31)\n"
     ]
    }
   ],
   "source": [
    "iterator = p.finditer('12 drummers drumming, 11 ... 10 ...')\n",
    "print(iterator)\n",
    "for match in iterator:\n",
    "    print(match.span())"
   ]
  },
  {
   "cell_type": "markdown",
   "id": "ad6a89e9-7874-42b0-ab68-4aaa1aa7c05c",
   "metadata": {},
   "source": [
    "#### 模块级函数\n",
    "\n",
    "你不一定要产生一个 `RegexObject` 对象然后再调用它的方法；re 模块也提供了顶级函数调用如  match()、search()、sub() 等等。这些函数使用 RE 字符串作为第一个参数，而后面的参数则与相应 `RegexObject`  的方法参数相同，返回则要么是 None 要么就是一个 `MatchObject` 的实例。"
   ]
  },
  {
   "cell_type": "code",
   "execution_count": 22,
   "id": "d1c722c9-87df-499d-9423-08a55e1ece2c",
   "metadata": {},
   "outputs": [
    {
     "name": "stdout",
     "output_type": "stream",
     "text": [
      "None\n"
     ]
    },
    {
     "data": {
      "text/plain": [
       "<re.Match object; span=(0, 5), match='From '>"
      ]
     },
     "execution_count": 22,
     "metadata": {},
     "output_type": "execute_result"
    }
   ],
   "source": [
    "#!python\n",
    ">>> import re\n",
    ">>> print(re.match(r'From\\s+', 'Fromage amk'))\n",
    ">>> re.match(r'From\\s+', 'From amk Thu May 14 19:12:10 1998')"
   ]
  },
  {
   "cell_type": "markdown",
   "id": "d702ef05-4d9e-4421-b38b-0bc9754b981f",
   "metadata": {},
   "source": [
    " 在re模块内部，这些函数简单地产生一个 RegexOject 并在其上调用相应的方法。它们也在缓存里保存编译后的对象，因此在将来调用用到相同 RE 时就会更快。 "
   ]
  },
  {
   "cell_type": "code",
   "execution_count": null,
   "id": "e9912406-b34c-462f-a62a-a22e5a10a871",
   "metadata": {},
   "outputs": [],
   "source": []
  }
 ],
 "metadata": {
  "kernelspec": {
   "display_name": "Python 3",
   "language": "python",
   "name": "python3"
  },
  "language_info": {
   "codemirror_mode": {
    "name": "ipython",
    "version": 3
   },
   "file_extension": ".py",
   "mimetype": "text/x-python",
   "name": "python",
   "nbconvert_exporter": "python",
   "pygments_lexer": "ipython3",
   "version": "3.11.5"
  }
 },
 "nbformat": 4,
 "nbformat_minor": 5
}
